{
 "cells": [
  {
   "cell_type": "code",
   "execution_count": 4,
   "id": "fd65f442",
   "metadata": {},
   "outputs": [
    {
     "name": "stdout",
     "output_type": "stream",
     "text": [
      "Alpha (degrees)      C_l             C_d\n",
      "-2.00                0.008728        0.000001       \n",
      "0.00                 0.183296        0.000605       \n",
      "2.00                 0.357863        0.002304       \n",
      "4.00                 0.532431        0.005101       \n",
      "6.00                 0.706998        0.008993       \n",
      "8.00                 0.881565        0.013983       \n",
      "10.00                1.056133        0.020069       \n"
     ]
    }
   ],
   "source": [
    "import numpy as np\n",
    "\n",
    "a_01 = -2.1 * np.pi/180  # Angle of Attack where C_l is 0 in degree\n",
    "a_0 = 5.54  # lift curve slope (should be in per radian)\n",
    "lambda_val = 0.656  # Taper Ratio\n",
    "AR = 18.81  # Aspect Ratio\n",
    "phi = np.array([22.5, 45, 67.5, 90])  # Random four values of phi for computation\n",
    "\n",
    "# Range of angles of attack\n",
    "alpha_range_deg = np.linspace(-2, 10, 7)  \n",
    "alpha_range_rad = np.deg2rad(alpha_range_deg)\n",
    "\n",
    "# Initialize lists to store results\n",
    "C_l_list = []\n",
    "C_d_list = []\n",
    "\n",
    "for alpha in alpha_range_rad:\n",
    "    mu = (a_0 / (2 * (1 + lambda_val) * AR)) * (1 + (lambda_val - 1) * np.cos(np.deg2rad(phi)))\n",
    "\n",
    "    A_matrix = np.sin(np.deg2rad(np.array([1, 3, 5, 7]) * phi[:, np.newaxis])) * ((np.array([1, 3, 5, 7]) * mu[:, np.newaxis]) + np.sin(np.deg2rad(phi[:, np.newaxis])))\n",
    "    b_vector = mu * (alpha - a_01) * np.sin(np.deg2rad(phi))\n",
    "\n",
    "    A = np.linalg.solve(A_matrix, b_vector)\n",
    "    C_l = A[0] * np.pi * AR\n",
    "    C_d = (C_l ** 2 / (np.pi * AR)) * (1 + 3 * (A[1] / A[0]) ** 2 + 5 * (A[2] / A[0]) ** 2 + 7 * (A[3] / A[0]) ** 2)\n",
    "\n",
    "    C_l_list.append(C_l)\n",
    "    C_d_list.append(C_d)\n",
    "\n",
    "print(\"Alpha (degrees)      C_l             C_d\")\n",
    "for i in range(len(alpha_range_deg)):\n",
    "    print(f\"{alpha_range_deg[i]:<20.2f} {C_l_list[i]:<15.6f} {C_d_list[i]:<15.6f}\")"
   ]
  }
 ],
 "metadata": {
  "kernelspec": {
   "display_name": "Python 3 (ipykernel)",
   "language": "python",
   "name": "python3"
  },
  "language_info": {
   "codemirror_mode": {
    "name": "ipython",
    "version": 3
   },
   "file_extension": ".py",
   "mimetype": "text/x-python",
   "name": "python",
   "nbconvert_exporter": "python",
   "pygments_lexer": "ipython3",
   "version": "3.10.12"
  }
 },
 "nbformat": 4,
 "nbformat_minor": 5
}
